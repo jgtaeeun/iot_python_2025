{
 "cells": [
  {
   "cell_type": "markdown",
   "metadata": {},
   "source": [
    "### 1. 반지름 값을 입력받아 원의 넓이를 구하여 출력하는 프로그램을 구현하세요. π는 3.141592 입니다. 내부 모듈을 사용하여도 됩니다. "
   ]
  },
  {
   "cell_type": "code",
   "execution_count": 11,
   "metadata": {},
   "outputs": [
    {
     "name": "stdout",
     "output_type": "stream",
     "text": [
      "원의 넓이: 28.27\n"
     ]
    }
   ],
   "source": [
    "import math\n",
    "\n",
    "try :\n",
    "    r = int(input('반지름 값: '))\n",
    "    if r <= 0 :\n",
    "        print('반지름은 양수입니다.')\n",
    "    else :\n",
    "        print(f'원의 넓이: {math.pi * pow(r,2):.2f}')\n",
    "except Exception:\n",
    "    print('int형을 입력하세요')"
   ]
  },
  {
   "cell_type": "markdown",
   "metadata": {},
   "source": [
    "### 2. 영문이름을 입력하면 웹사이트 주소가 리턴되는 함수, get_url() 를  구현하세요."
   ]
  },
  {
   "cell_type": "code",
   "execution_count": 15,
   "metadata": {},
   "outputs": [
    {
     "name": "stdout",
     "output_type": "stream",
     "text": [
      "www.naver.com\n"
     ]
    }
   ],
   "source": [
    "def get_url(name):\n",
    "    url = f'www.{name}.com'\n",
    "    return url\n",
    "\n",
    "try :\n",
    "    flag= True\n",
    "    name = input('영문이름 입력: ').lower().strip()\n",
    "    for i in name :\n",
    "        if not (ord(i) >= 97 and ord(i) <=122) :\n",
    "            flag=False\n",
    "            break\n",
    "    if flag :\n",
    "        print(get_url(name))\n",
    "    else :\n",
    "        print('영문자 str형을 입력하세요')\n",
    "except Exception:\n",
    "    print('영문자 str형을 입력하세요')\n",
    "\n"
   ]
  },
  {
   "cell_type": "markdown",
   "metadata": {},
   "source": [
    "### 3.  구구단을 수행할 단번호를 입력하면 그 단의 9까지의 결과를 나열하는 프로그램을 입력하세요"
   ]
  },
  {
   "cell_type": "code",
   "execution_count": 19,
   "metadata": {},
   "outputs": [
    {
     "name": "stdout",
     "output_type": "stream",
     "text": [
      "3 6 9 12 15 18 21 24 27 "
     ]
    }
   ],
   "source": [
    "try :\n",
    "    dan = int(input('단번호(1이상): '))\n",
    "\n",
    "    if dan >=1 :\n",
    "        for i in range(1,10):\n",
    "            print(i *dan , end=' ')\n",
    "    else :\n",
    "        print('1이상의 단번호 입력하세요')\n",
    "except Exception:\n",
    "    print('int형을 입력하세요')"
   ]
  },
  {
   "cell_type": "markdown",
   "metadata": {},
   "source": [
    "### 4.  입력한 수를 거꾸로 출력하는 프로그램을 구현하세요."
   ]
  },
  {
   "cell_type": "code",
   "execution_count": 20,
   "metadata": {},
   "outputs": [
    {
     "name": "stdout",
     "output_type": "stream",
     "text": [
      "9 7 5 3 1 "
     ]
    }
   ],
   "source": [
    "\n",
    "try :\n",
    "    count = int(input('입력하려는 수의 개수를 정하세요: '))\n",
    "    numbers = input('수를 입력하세요(☆|로 분리해주세요☆): ').split('|')\n",
    "\n",
    "    if len(numbers) != count :\n",
    "        print(f'입력한 수의 개수는 {len(numbers)}로 입력조건인 {count}개가 아닙니다.')\n",
    "    else :\n",
    "        numbers.reverse()\n",
    "        for i in numbers :\n",
    "            print(i.strip(), end=' ')\n",
    "\n",
    "except Exception:\n",
    "    print('입력하려는 수의 개수는 int형입니다.')"
   ]
  },
  {
   "cell_type": "markdown",
   "metadata": {},
   "source": [
    "### 5. SmartPhone 이라는 클래스를 만들고, 객체를 생성해서 phoneOwner, phoneNumber, company 등의 멤버변수(속성)을 가지도록 만드세요.(본인이 다른 기능을 좀 더 추가하여도 무방합니다)"
   ]
  },
  {
   "cell_type": "code",
   "execution_count": 25,
   "metadata": {},
   "outputs": [
    {
     "name": "stdout",
     "output_type": "stream",
     "text": [
      "<SmartPhone 정보> \n",
      "phoneOwner : 노란\n",
      "phoneNumber : 010-0000-0000\n",
      "company : SAMSUNG\n",
      "\n",
      "010-0000-0000\n",
      "010-1111-1111\n"
     ]
    }
   ],
   "source": [
    "class SmartPhone():\n",
    "    def __init__(self,phoneOwner,phoneNumber,company):\n",
    "        self.__phoneOwner = phoneOwner\n",
    "        self.__phoneNumber=phoneNumber\n",
    "        self.__company=company\n",
    "\n",
    "    def __str__(self):\n",
    "        result = ( '<SmartPhone 정보> \\n' \n",
    "                    f'phoneOwner : {self.__phoneOwner}\\n'\n",
    "                    f'phoneNumber : {self.__phoneNumber}\\n'\n",
    "                    f'company : {self.__company}\\n')\n",
    "        return result\n",
    "    \n",
    "    def getPhoneOwner(self):\n",
    "        return self.__phoneOwner\n",
    "    \n",
    "    def getPhoneNumber(self):\n",
    "        return self.__phoneNumber\n",
    "    \n",
    "    def getCompany(self):\n",
    "        return self.__company\n",
    "    \n",
    "    def setPhoneOwner(self, phoneOwner):\n",
    "        self.__phoneOwner = phoneOwner\n",
    "    \n",
    "    def setPhoneNumber(self,phoneNumber):\n",
    "        self.__phoneNumber=phoneNumber\n",
    "    \n",
    "    def setCompany(self,company):\n",
    "        self.__company=company\n",
    "   \n",
    "mySmartPhone = SmartPhone('노란', '010-0000-0000', 'SAMSUNG')\n",
    "print(mySmartPhone)\n",
    "\n",
    "print(mySmartPhone.getPhoneNumber())\n",
    "mySmartPhone.setPhoneNumber('010-1111-1111')\n",
    "print(mySmartPhone.getPhoneNumber())"
   ]
  }
 ],
 "metadata": {
  "kernelspec": {
   "display_name": "Python 3",
   "language": "python",
   "name": "python3"
  },
  "language_info": {
   "codemirror_mode": {
    "name": "ipython",
    "version": 3
   },
   "file_extension": ".py",
   "mimetype": "text/x-python",
   "name": "python",
   "nbconvert_exporter": "python",
   "pygments_lexer": "ipython3",
   "version": "3.11.9"
  }
 },
 "nbformat": 4,
 "nbformat_minor": 2
}
