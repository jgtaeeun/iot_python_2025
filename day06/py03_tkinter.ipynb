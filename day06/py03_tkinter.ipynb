{
 "cells": [
  {
   "cell_type": "markdown",
   "metadata": {},
   "source": [
    "# tkinter\n",
    "- 파이썬 내장된 GUI 라이브러리"
   ]
  },
  {
   "cell_type": "code",
   "execution_count": 81,
   "metadata": {},
   "outputs": [],
   "source": [
    "from tkinter import *\n",
    "import tkinter.font as fnt"
   ]
  },
  {
   "cell_type": "code",
   "execution_count": 3,
   "metadata": {},
   "outputs": [],
   "source": [
    "root = Tk() #tkinter 객체 생성\n",
    "root.mainloop() #닫기아이콘을 클릭하기 전까지 무한루프"
   ]
  },
  {
   "cell_type": "markdown",
   "metadata": {},
   "source": [
    "### 라벨 컨트롤\n",
    "- GUI화면에 글자(문자열) 표현하는 컨트롤"
   ]
  },
  {
   "cell_type": "code",
   "execution_count": 4,
   "metadata": {},
   "outputs": [],
   "source": [
    "root = Tk()\n",
    "\n",
    "label = Label(master=root, text='Hello Tkinter!')\n",
    "label.pack()    #윈도우에 패킹\n",
    "root.mainloop()"
   ]
  },
  {
   "cell_type": "markdown",
   "metadata": {},
   "source": [
    "### 창크기 설정\n",
    "- 윈도우 실행될 때 창크기 설정"
   ]
  },
  {
   "cell_type": "code",
   "execution_count": 4,
   "metadata": {},
   "outputs": [],
   "source": [
    "root = Tk()\n",
    "root.geometry('320x230')    # 320x230, 640x480, 800x600, 1024x768 \n",
    "\n",
    "label = Label(master=root, text='Hello Tkinter!')\n",
    "label.pack()    #윈도우에 패킹\n",
    "\n",
    "root.mainloop()"
   ]
  },
  {
   "cell_type": "markdown",
   "metadata": {},
   "source": [
    "### 위젯 분류\n",
    "\n",
    "#### 컨테이너 위젯\n",
    "- 다른 위젯들을 같이 포함할 수 있는 컨테이너 형태의 위젯\n",
    "- 관련 있는 위젯을 묶어줌\n",
    "- Frame, LabelFrame, Panedroot...\n",
    "\n",
    "#### 단순 위젯\n",
    "- 하나의 기능을 가지는 위젯\n",
    "- Button, Canvas, CheckButton, Entry, Label, Message ...\n"
   ]
  },
  {
   "cell_type": "markdown",
   "metadata": {},
   "source": [
    "### 버튼 위젯"
   ]
  },
  {
   "cell_type": "code",
   "execution_count": 9,
   "metadata": {},
   "outputs": [],
   "source": [
    "root = Tk()\n",
    "root.geometry('640x400')    # 320x230, 640x480, 800x600, 1024x768 \n",
    "\n",
    "label = Label(master=root, text='Hello Tkinter!')\n",
    "label.pack()    #윈도우에 패킹\n",
    "\n",
    "button = Button(root, text='확인')\n",
    "button.pack()\n",
    "\n",
    "button2 = Button(root, text='종료')\n",
    "button2.pack()\n",
    "\n",
    "root.mainloop()"
   ]
  },
  {
   "cell_type": "markdown",
   "metadata": {},
   "source": [
    "### 이벤트\n",
    "- 사용자가 위젯을 동작시켰을 때, 발생하는 처리로직\n",
    "- 마우스클릭, 마우스무브, 스크롤, 키프레스, 드래그 ..."
   ]
  },
  {
   "cell_type": "code",
   "execution_count": 59,
   "metadata": {},
   "outputs": [],
   "source": [
    "root = Tk(className= \"카운트 실습 예제\")\n",
    "root.geometry('320x200') # 세로 200은 제목표시줄 제외한 200이기에 제목포함하면 200 넘는다.\n",
    "\n",
    "# 이벤트\n",
    "count = 0\n",
    "\n",
    "def countUp():\n",
    "    global count # 전역변수 count를 countUp()함수 내에서 사용\n",
    "    count += 1\n",
    "    label['text'] = f'버튼클릭:{count}'\n",
    "\n",
    "def countDown():\n",
    "    global count # 전역변수 count를 countUp()함수 내에서 사용\n",
    "    count -= 1\n",
    "    label['text'] = f'버튼클릭:{count}'\n",
    "\n",
    "def countInit():\n",
    "    global count \n",
    "    count = 0\n",
    "    label['text'] = f'버튼클릭:{count}'\n",
    "\n",
    "myfont = fnt.Font(family='NanumGothic', size=20)\n",
    "\n",
    "# 숫자카운트를 표시할 라벨\n",
    "label = Label(root, text='버튼클릭:0' , fg= 'red', font=myfont)\n",
    "# padx(왼쪽, 오른쪽) , pady(위, 아래 여백)\n",
    "label.pack(side='left', padx =10)\n",
    "\n",
    "# countUp이라는 함수가 마우스클릭때마다 실행\n",
    "buttonUp = Button(root, text='카운트 증가' ,\n",
    "                font=myfont, \n",
    "                command=countUp)\n",
    "buttonUp.pack(side='top', padx =10 , pady =5)\n",
    "\n",
    "buttonDown = Button(root, text='카운트 감소' ,\n",
    "                    font=myfont, \n",
    "                    command=countDown)\n",
    "buttonDown.pack(side='top', padx =10, pady =5)\n",
    "\n",
    "buttonInit = Button(root, text='초기화' ,\n",
    "                     font=myfont,\n",
    "                     command=countInit)\n",
    "buttonInit.pack(side='bottom', padx =10 ,pady =5)\n",
    "\n",
    "root.mainloop()"
   ]
  },
  {
   "cell_type": "markdown",
   "metadata": {},
   "source": [
    "### 여러가지 위젯 총집합"
   ]
  },
  {
   "cell_type": "code",
   "execution_count": null,
   "metadata": {},
   "outputs": [],
   "source": [
    "# PyImage3 doesn't exist 문제 발생하면 Pillow라이브러리로 사용하는 방법으로 변경\n",
    "# !pip install Pillow\n",
    "# from PIL import Image, ImgaeTk\n",
    "\n",
    "# 주피터 노트북 메모리충돌로 안 될수도 있으니 .py파일에서 하면 됨\n"
   ]
  },
  {
   "cell_type": "code",
   "execution_count": 80,
   "metadata": {},
   "outputs": [
    {
     "name": "stdout",
     "output_type": "stream",
     "text": [
      "c:\\Source\\iot_python_2025\\day06\n"
     ]
    }
   ],
   "source": [
    "import os\n",
    "print(os.getcwd()) "
   ]
  },
  {
   "cell_type": "code",
   "execution_count": 82,
   "metadata": {},
   "outputs": [
    {
     "ename": "TclError",
     "evalue": "image \"pyimage18\" doesn't exist",
     "output_type": "error",
     "traceback": [
      "\u001b[1;31m---------------------------------------------------------------------------\u001b[0m",
      "\u001b[1;31mTclError\u001b[0m                                  Traceback (most recent call last)",
      "Cell \u001b[1;32mIn[82], line 7\u001b[0m\n\u001b[0;32m      5\u001b[0m \u001b[38;5;66;03m# 이미지\u001b[39;00m\n\u001b[0;32m      6\u001b[0m img \u001b[38;5;241m=\u001b[39m PhotoImage(file\u001b[38;5;241m=\u001b[39m\u001b[38;5;124m'\u001b[39m\u001b[38;5;124m./baoFamily.png\u001b[39m\u001b[38;5;124m'\u001b[39m)\n\u001b[1;32m----> 7\u001b[0m label \u001b[38;5;241m=\u001b[39m \u001b[43mLabel\u001b[49m\u001b[43m(\u001b[49m\u001b[43mroot\u001b[49m\u001b[43m,\u001b[49m\u001b[43m \u001b[49m\u001b[43mimage\u001b[49m\u001b[43m \u001b[49m\u001b[38;5;241;43m=\u001b[39;49m\u001b[43m \u001b[49m\u001b[43mimg\u001b[49m\u001b[43m)\u001b[49m\n\u001b[0;32m      8\u001b[0m label\u001b[38;5;241m.\u001b[39mpack()\n\u001b[0;32m     10\u001b[0m root\u001b[38;5;241m.\u001b[39mmainloop()\n",
      "File \u001b[1;32mc:\\Users\\Admin\\.pyenv\\pyenv-win\\versions\\3.11.9\\Lib\\tkinter\\__init__.py:3236\u001b[0m, in \u001b[0;36mLabel.__init__\u001b[1;34m(self, master, cnf, **kw)\u001b[0m\n\u001b[0;32m   3218\u001b[0m \u001b[38;5;28;01mdef\u001b[39;00m\u001b[38;5;250m \u001b[39m\u001b[38;5;21m__init__\u001b[39m(\u001b[38;5;28mself\u001b[39m, master\u001b[38;5;241m=\u001b[39m\u001b[38;5;28;01mNone\u001b[39;00m, cnf\u001b[38;5;241m=\u001b[39m{}, \u001b[38;5;241m*\u001b[39m\u001b[38;5;241m*\u001b[39mkw):\n\u001b[0;32m   3219\u001b[0m \u001b[38;5;250m    \u001b[39m\u001b[38;5;124;03m\"\"\"Construct a label widget with the parent MASTER.\u001b[39;00m\n\u001b[0;32m   3220\u001b[0m \n\u001b[0;32m   3221\u001b[0m \u001b[38;5;124;03m    STANDARD OPTIONS\u001b[39;00m\n\u001b[1;32m   (...)\u001b[0m\n\u001b[0;32m   3234\u001b[0m \n\u001b[0;32m   3235\u001b[0m \u001b[38;5;124;03m    \"\"\"\u001b[39;00m\n\u001b[1;32m-> 3236\u001b[0m     \u001b[43mWidget\u001b[49m\u001b[38;5;241;43m.\u001b[39;49m\u001b[38;5;21;43m__init__\u001b[39;49m\u001b[43m(\u001b[49m\u001b[38;5;28;43mself\u001b[39;49m\u001b[43m,\u001b[49m\u001b[43m \u001b[49m\u001b[43mmaster\u001b[49m\u001b[43m,\u001b[49m\u001b[43m \u001b[49m\u001b[38;5;124;43m'\u001b[39;49m\u001b[38;5;124;43mlabel\u001b[39;49m\u001b[38;5;124;43m'\u001b[39;49m\u001b[43m,\u001b[49m\u001b[43m \u001b[49m\u001b[43mcnf\u001b[49m\u001b[43m,\u001b[49m\u001b[43m \u001b[49m\u001b[43mkw\u001b[49m\u001b[43m)\u001b[49m\n",
      "File \u001b[1;32mc:\\Users\\Admin\\.pyenv\\pyenv-win\\versions\\3.11.9\\Lib\\tkinter\\__init__.py:2647\u001b[0m, in \u001b[0;36mBaseWidget.__init__\u001b[1;34m(self, master, widgetName, cnf, kw, extra)\u001b[0m\n\u001b[0;32m   2645\u001b[0m \u001b[38;5;28;01mfor\u001b[39;00m k, v \u001b[38;5;129;01min\u001b[39;00m classes:\n\u001b[0;32m   2646\u001b[0m     \u001b[38;5;28;01mdel\u001b[39;00m cnf[k]\n\u001b[1;32m-> 2647\u001b[0m \u001b[38;5;28;43mself\u001b[39;49m\u001b[38;5;241;43m.\u001b[39;49m\u001b[43mtk\u001b[49m\u001b[38;5;241;43m.\u001b[39;49m\u001b[43mcall\u001b[49m\u001b[43m(\u001b[49m\n\u001b[0;32m   2648\u001b[0m \u001b[43m    \u001b[49m\u001b[43m(\u001b[49m\u001b[43mwidgetName\u001b[49m\u001b[43m,\u001b[49m\u001b[43m \u001b[49m\u001b[38;5;28;43mself\u001b[39;49m\u001b[38;5;241;43m.\u001b[39;49m\u001b[43m_w\u001b[49m\u001b[43m)\u001b[49m\u001b[43m \u001b[49m\u001b[38;5;241;43m+\u001b[39;49m\u001b[43m \u001b[49m\u001b[43mextra\u001b[49m\u001b[43m \u001b[49m\u001b[38;5;241;43m+\u001b[39;49m\u001b[43m \u001b[49m\u001b[38;5;28;43mself\u001b[39;49m\u001b[38;5;241;43m.\u001b[39;49m\u001b[43m_options\u001b[49m\u001b[43m(\u001b[49m\u001b[43mcnf\u001b[49m\u001b[43m)\u001b[49m\u001b[43m)\u001b[49m\n\u001b[0;32m   2649\u001b[0m \u001b[38;5;28;01mfor\u001b[39;00m k, v \u001b[38;5;129;01min\u001b[39;00m classes:\n\u001b[0;32m   2650\u001b[0m     k\u001b[38;5;241m.\u001b[39mconfigure(\u001b[38;5;28mself\u001b[39m, v)\n",
      "\u001b[1;31mTclError\u001b[0m: image \"pyimage18\" doesn't exist"
     ]
    }
   ],
   "source": [
    "root = Tk()\n",
    "root.geometry('800x600')\n",
    "root.title('위젯 연습')\n",
    "\n",
    "# 이미지\n",
    "img = PhotoImage(file='./baoFamily.png')\n",
    "label = Label(root, image = img)\n",
    "label.pack()\n",
    " \n",
    "root.mainloop()"
   ]
  }
 ],
 "metadata": {
  "kernelspec": {
   "display_name": "Python 3",
   "language": "python",
   "name": "python3"
  },
  "language_info": {
   "codemirror_mode": {
    "name": "ipython",
    "version": 3
   },
   "file_extension": ".py",
   "mimetype": "text/x-python",
   "name": "python",
   "nbconvert_exporter": "python",
   "pygments_lexer": "ipython3",
   "version": "3.11.9"
  }
 },
 "nbformat": 4,
 "nbformat_minor": 2
}
